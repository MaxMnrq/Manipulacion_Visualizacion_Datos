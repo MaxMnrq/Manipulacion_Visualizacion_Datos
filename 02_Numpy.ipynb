{
 "cells": [
  {
   "cell_type": "markdown",
   "metadata": {
    "id": "zTrOJg2ltVTI"
   },
   "source": [
    "# Práctica 2: Introducción a Numpy"
   ]
  },
  {
   "cell_type": "markdown",
   "metadata": {
    "id": "-FWl3EDQw9OM"
   },
   "source": [
    "**1.- Importar la biblioteca de NumPy.**"
   ]
  },
  {
   "cell_type": "code",
   "execution_count": 28,
   "metadata": {
    "id": "dARCcGBRtEvM"
   },
   "outputs": [],
   "source": [
    "# Respuesta\n",
    "import numpy as np"
   ]
  },
  {
   "cell_type": "markdown",
   "metadata": {
    "id": "izKxMG8Ixi5B"
   },
   "source": [
    "**2.- Crear un arreglo que contenga 10 ceros.**"
   ]
  },
  {
   "cell_type": "code",
   "execution_count": 29,
   "metadata": {
    "colab": {
     "base_uri": "https://localhost:8080/"
    },
    "id": "g9sgtxDYtYEg",
    "outputId": "f8a7da49-72b4-4624-d6e9-35724454b057"
   },
   "outputs": [
    {
     "data": {
      "text/plain": [
       "array([0., 0., 0., 0., 0., 0., 0., 0., 0., 0.])"
      ]
     },
     "execution_count": 29,
     "metadata": {
      "tags": []
     },
     "output_type": "execute_result"
    }
   ],
   "source": [
    "# Respuesta\n",
    "a = np.zeros(10)\n",
    "a"
   ]
  },
  {
   "cell_type": "markdown",
   "metadata": {
    "id": "7Ydwitw1x3Iq"
   },
   "source": [
    "**3.- Tomando en cuenta el arreglo anterior, modificar la dimensión para obtener un arreglo de 5 filas y 2 columnas.**"
   ]
  },
  {
   "cell_type": "code",
   "execution_count": 30,
   "metadata": {
    "colab": {
     "base_uri": "https://localhost:8080/"
    },
    "id": "u1jsMTvsxw0M",
    "outputId": "90a319bb-f37c-45b0-ddb1-706e2cb72d74"
   },
   "outputs": [
    {
     "data": {
      "text/plain": [
       "array([[0., 0.],\n",
       "       [0., 0.],\n",
       "       [0., 0.],\n",
       "       [0., 0.],\n",
       "       [0., 0.]])"
      ]
     },
     "execution_count": 30,
     "metadata": {
      "tags": []
     },
     "output_type": "execute_result"
    }
   ],
   "source": [
    "# Respuesta\n",
    "a.reshape(5,2)"
   ]
  },
  {
   "cell_type": "markdown",
   "metadata": {
    "id": "CPNssqSiyfZr"
   },
   "source": [
    "**4.- Crear un arreglo que contenga 10 números uno.**"
   ]
  },
  {
   "cell_type": "code",
   "execution_count": 31,
   "metadata": {
    "colab": {
     "base_uri": "https://localhost:8080/"
    },
    "id": "wVd2YSvVyR9j",
    "outputId": "ddbd0618-1c6f-4f07-bc68-88c923d3f29f"
   },
   "outputs": [
    {
     "data": {
      "text/plain": [
       "array([1., 1., 1., 1., 1., 1., 1., 1., 1., 1.])"
      ]
     },
     "execution_count": 31,
     "metadata": {
      "tags": []
     },
     "output_type": "execute_result"
    }
   ],
   "source": [
    "# Respuesta\n",
    "b = np.ones(10)\n",
    "b"
   ]
  },
  {
   "cell_type": "markdown",
   "metadata": {
    "id": "UTgRKvWVywal"
   },
   "source": [
    "**5.- Crear un arreglo que contenga 10 números cinco.**"
   ]
  },
  {
   "cell_type": "code",
   "execution_count": 32,
   "metadata": {
    "colab": {
     "base_uri": "https://localhost:8080/"
    },
    "id": "vdWPZvPqytxU",
    "outputId": "d5cfe400-c767-4449-f4dd-d8484b437228"
   },
   "outputs": [
    {
     "data": {
      "text/plain": [
       "array([5., 5., 5., 5., 5., 5., 5., 5., 5., 5.])"
      ]
     },
     "execution_count": 32,
     "metadata": {
      "tags": []
     },
     "output_type": "execute_result"
    }
   ],
   "source": [
    "# Respuesta \n",
    "c=b*5\n",
    "c"
   ]
  },
  {
   "cell_type": "markdown",
   "metadata": {
    "id": "Sz_6cM8ry9A6"
   },
   "source": [
    "**6.- Obtener un arreglo donde sus elementos sean números enteros entre 10 y 50, considerando un salto unitario.**"
   ]
  },
  {
   "cell_type": "code",
   "execution_count": 33,
   "metadata": {
    "colab": {
     "base_uri": "https://localhost:8080/"
    },
    "id": "xTwo_-ZnzL0p",
    "outputId": "79772fb1-4efb-4285-97db-99076fa508b4"
   },
   "outputs": [
    {
     "data": {
      "text/plain": [
       "array([10, 11, 12, 13, 14, 15, 16, 17, 18, 19, 20, 21, 22, 23, 24, 25, 26,\n",
       "       27, 28, 29, 30, 31, 32, 33, 34, 35, 36, 37, 38, 39, 40, 41, 42, 43,\n",
       "       44, 45, 46, 47, 48, 49, 50])"
      ]
     },
     "execution_count": 33,
     "metadata": {
      "tags": []
     },
     "output_type": "execute_result"
    }
   ],
   "source": [
    "# Respuesta\n",
    "d = np.arange(10,51,1)\n",
    "d"
   ]
  },
  {
   "cell_type": "markdown",
   "metadata": {
    "id": "lu3xdkeZzgns"
   },
   "source": [
    "**7.- Generar un arreglo con todos los números pares entre 10 y 50.**"
   ]
  },
  {
   "cell_type": "code",
   "execution_count": 34,
   "metadata": {
    "colab": {
     "base_uri": "https://localhost:8080/"
    },
    "id": "GWRnKZhLy4Pp",
    "outputId": "e8a0e2b7-4747-4d9b-faf2-87a30308b2c4"
   },
   "outputs": [
    {
     "data": {
      "text/plain": [
       "array([10, 12, 14, 16, 18, 20, 22, 24, 26, 28, 30, 32, 34, 36, 38, 40, 42,\n",
       "       44, 46, 48, 50])"
      ]
     },
     "execution_count": 34,
     "metadata": {
      "tags": []
     },
     "output_type": "execute_result"
    }
   ],
   "source": [
    "# Respuesta\n",
    "e = np.arange(10,51,2)\n",
    "e"
   ]
  },
  {
   "cell_type": "markdown",
   "metadata": {
    "id": "mlptTAFnzwCX"
   },
   "source": [
    "**8.- Crear una matriz identidad de 3x3.**"
   ]
  },
  {
   "cell_type": "code",
   "execution_count": 46,
   "metadata": {
    "colab": {
     "base_uri": "https://localhost:8080/"
    },
    "id": "M4DC-wMW-OsY",
    "outputId": "477b8a3a-150b-4d3d-c271-0dc131c426ec"
   },
   "outputs": [
    {
     "data": {
      "text/plain": [
       "array([[1., 0., 0.],\n",
       "       [0., 1., 0.],\n",
       "       [0., 0., 1.]])"
      ]
     },
     "execution_count": 46,
     "metadata": {
      "tags": []
     },
     "output_type": "execute_result"
    }
   ],
   "source": [
    "# Respuesta\n",
    "f = np.identity(3)\n",
    "f"
   ]
  },
  {
   "cell_type": "code",
   "execution_count": 48,
   "metadata": {
    "colab": {
     "base_uri": "https://localhost:8080/"
    },
    "id": "2ZNGnlUBzr8u",
    "outputId": "c6e5bd83-c4c3-40ae-91a3-2cce93639bd3"
   },
   "outputs": [
    {
     "data": {
      "text/plain": [
       "array([[1., 0., 0.],\n",
       "       [0., 1., 0.],\n",
       "       [0., 0., 1.]])"
      ]
     },
     "execution_count": 48,
     "metadata": {
      "tags": []
     },
     "output_type": "execute_result"
    }
   ],
   "source": [
    "m=np.zeros(9).reshape(3,3)\n",
    "for i in range(3):\n",
    "  m[i][i]=1\n",
    "m"
   ]
  },
  {
   "cell_type": "markdown",
   "metadata": {
    "id": "5hWiPo9fz9CF"
   },
   "source": [
    "**9.- Generar dos números aleatorios entre 0 y 1.** "
   ]
  },
  {
   "cell_type": "code",
   "execution_count": 66,
   "metadata": {
    "colab": {
     "base_uri": "https://localhost:8080/"
    },
    "id": "e8KMpp09z1aa",
    "outputId": "63a934f6-f4ed-481d-b78a-5fb98941f09c"
   },
   "outputs": [
    {
     "data": {
      "text/plain": [
       "array([0.8811032 , 0.58127287])"
      ]
     },
     "execution_count": 66,
     "metadata": {
      "tags": []
     },
     "output_type": "execute_result"
    }
   ],
   "source": [
    "# Respuesta\n",
    "np.random.rand(2)"
   ]
  },
  {
   "cell_type": "markdown",
   "metadata": {
    "id": "EqYpxjD00IDA"
   },
   "source": [
    "**10.- Obtener una muestra de 12 valores que provengan de una distribución $N(0,1)$.**"
   ]
  },
  {
   "cell_type": "code",
   "execution_count": 65,
   "metadata": {
    "colab": {
     "base_uri": "https://localhost:8080/"
    },
    "id": "Nibt_X1S0Fuk",
    "outputId": "b7e62968-fb72-4861-b0f1-9c2c127f8c4f"
   },
   "outputs": [
    {
     "data": {
      "text/plain": [
       "array([[-1.16514984,  0.90082649,  0.46566244, -1.53624369,  1.48825219,\n",
       "         1.89588918,  1.17877957, -0.17992484, -1.07075262,  1.05445173,\n",
       "        -0.40317695,  1.22244507]])"
      ]
     },
     "execution_count": 65,
     "metadata": {
      "tags": []
     },
     "output_type": "execute_result"
    }
   ],
   "source": [
    "# Respuesta\n",
    "np.random.randn(1,12)"
   ]
  },
  {
   "cell_type": "markdown",
   "metadata": {
    "id": "QaEmRtwp0_dh"
   },
   "source": [
    "**11.- ¿De qué forma podría obtener siempre el mismo valor cuando uso funciones que generan números aleatorios?** "
   ]
  },
  {
   "cell_type": "code",
   "execution_count": 38,
   "metadata": {
    "id": "Yf2EeQTZ0ffd"
   },
   "outputs": [],
   "source": [
    "# Respuesta\n",
    "np.random.seed(0)"
   ]
  },
  {
   "cell_type": "markdown",
   "metadata": {
    "id": "m5qrn9xO1Rtd"
   },
   "source": [
    "**12.- Genera exactamente la sigueinte matriz sin tener que ingresar los datos de forma \"manual\".**\n",
    "\n",
    "  $\\begin{pmatrix}\n",
    "  0.01 & 0.02 & 0.03\\\\ \n",
    "  0.04 & 0.05 & 0.06\\\\\n",
    "  0.07 & 0.08 & 0.09\n",
    "\\end{pmatrix}$ \n"
   ]
  },
  {
   "cell_type": "code",
   "execution_count": 74,
   "metadata": {
    "colab": {
     "base_uri": "https://localhost:8080/"
    },
    "id": "TxXFj7841b8P",
    "outputId": "b2cc3231-f5c6-4187-d89b-70e0584bb2c5"
   },
   "outputs": [
    {
     "data": {
      "text/plain": [
       "array([[0.01, 0.02, 0.03],\n",
       "       [0.04, 0.05, 0.06],\n",
       "       [0.07, 0.08, 0.09]])"
      ]
     },
     "execution_count": 74,
     "metadata": {
      "tags": []
     },
     "output_type": "execute_result"
    }
   ],
   "source": [
    "# Respuesta\n",
    "g=np.arange(1,10)/100\n",
    "g.reshape(3,3)"
   ]
  },
  {
   "cell_type": "markdown",
   "metadata": {
    "id": "7qLH223M2M_O"
   },
   "source": [
    "**13.- Crear un arreglo con 20 puntos seperados uniformemente entre 0 y 1.**"
   ]
  },
  {
   "cell_type": "code",
   "execution_count": 76,
   "metadata": {
    "colab": {
     "base_uri": "https://localhost:8080/"
    },
    "id": "xKSmboCL2Tic",
    "outputId": "63f2f710-4131-4a75-b88c-6164493a87a7"
   },
   "outputs": [
    {
     "data": {
      "text/plain": [
       "array([0.        , 0.05263158, 0.10526316, 0.15789474, 0.21052632,\n",
       "       0.26315789, 0.31578947, 0.36842105, 0.42105263, 0.47368421,\n",
       "       0.52631579, 0.57894737, 0.63157895, 0.68421053, 0.73684211,\n",
       "       0.78947368, 0.84210526, 0.89473684, 0.94736842, 1.        ])"
      ]
     },
     "execution_count": 76,
     "metadata": {
      "tags": []
     },
     "output_type": "execute_result"
    }
   ],
   "source": [
    "# Respuesta\n",
    "h = np.linspace(0,1,20)\n",
    "h"
   ]
  },
  {
   "cell_type": "markdown",
   "metadata": {
    "id": "kxlPBWNw2fRX"
   },
   "source": [
    "**14.- Considerando la siguiente matriz:**\n",
    "\n",
    "  $\\begin{pmatrix}\n",
    "  1 & 2 & 3 & 4 & 5\\\\ \n",
    "  6 & 7 & 8 & 9 & 10\\\\\n",
    "  11 & 12 & 13 & 14 & 15\\\\\n",
    "  16 & 17 & 18 & 19 & 20\\\\\n",
    "  21 & 22 & 23 & 24 & 25\n",
    "\\end{pmatrix}$ \n",
    "\n",
    "**a) Extraer:**\n",
    "\n",
    "  $\\begin{pmatrix}\n",
    "  12 & 13 & 14 & 15\\\\\n",
    "  17 & 18 & 19 & 20\\\\\n",
    "  22 & 23 & 24 & 25\n",
    "\\end{pmatrix}$ \n"
   ]
  },
  {
   "cell_type": "code",
   "execution_count": 111,
   "metadata": {
    "colab": {
     "base_uri": "https://localhost:8080/"
    },
    "id": "iwu-z93n2Xtb",
    "outputId": "7beba610-fe95-43b7-b661-2cd689971126"
   },
   "outputs": [
    {
     "name": "stdout",
     "output_type": "stream",
     "text": [
      "[[12 13 14 15]\n",
      " [17 18 19 20]\n",
      " [22 23 24 25]]\n"
     ]
    }
   ],
   "source": [
    "# Respuesta\n",
    "j = np.arange(1,26,1).reshape(5,5)\n",
    "print(j[2:, 1:])"
   ]
  },
  {
   "cell_type": "markdown",
   "metadata": {
    "id": "r4mc6Qe53zlz"
   },
   "source": [
    "**b) Extraer el valor de 14**"
   ]
  },
  {
   "cell_type": "code",
   "execution_count": 84,
   "metadata": {
    "colab": {
     "base_uri": "https://localhost:8080/"
    },
    "id": "pPqJj3aq3oaq",
    "outputId": "b8787f65-4fee-4668-da25-14e9cf9d848d"
   },
   "outputs": [
    {
     "data": {
      "text/plain": [
       "14"
      ]
     },
     "execution_count": 84,
     "metadata": {
      "tags": []
     },
     "output_type": "execute_result"
    }
   ],
   "source": [
    "# Respuesta\n",
    "j[2][3]"
   ]
  },
  {
   "cell_type": "markdown",
   "metadata": {
    "id": "_ygdyqQb4C1j"
   },
   "source": [
    "**c) Extraer el siguiente arreglo:**\n",
    "\n",
    "  $\\begin{pmatrix}\n",
    "  2\\\\ \n",
    "  7\\\\\n",
    "  12\n",
    "\\end{pmatrix}$ "
   ]
  },
  {
   "cell_type": "code",
   "execution_count": 117,
   "metadata": {
    "colab": {
     "base_uri": "https://localhost:8080/"
    },
    "id": "WaXVUcB-E8my",
    "outputId": "2eac9cdc-298b-484e-a225-d615d69720cc"
   },
   "outputs": [
    {
     "name": "stdout",
     "output_type": "stream",
     "text": [
      "[[ 2]\n",
      " [ 7]\n",
      " [12]]\n"
     ]
    }
   ],
   "source": [
    "print(j[0:3,1:2])"
   ]
  },
  {
   "cell_type": "markdown",
   "metadata": {
    "id": "nLgq_57L4_bD"
   },
   "source": [
    "**15.- Sumar todos los valores del arreglo del ejercicio 14.**"
   ]
  },
  {
   "cell_type": "code",
   "execution_count": 92,
   "metadata": {
    "colab": {
     "base_uri": "https://localhost:8080/"
    },
    "id": "2Hd-sfyH4cUm",
    "outputId": "6a226bfb-7bfb-4864-9ea9-6fcbc665f489"
   },
   "outputs": [
    {
     "data": {
      "text/plain": [
       "325"
      ]
     },
     "execution_count": 92,
     "metadata": {
      "tags": []
     },
     "output_type": "execute_result"
    }
   ],
   "source": [
    "# Respuesta\n",
    "j.sum()"
   ]
  },
  {
   "cell_type": "markdown",
   "metadata": {
    "id": "r6WCwhJP5JOn"
   },
   "source": [
    "**16.- Calcular la desviación estándar del arreglo en el ejercicio 14.**"
   ]
  },
  {
   "cell_type": "code",
   "execution_count": 93,
   "metadata": {
    "colab": {
     "base_uri": "https://localhost:8080/"
    },
    "id": "4eW5kz1u5IYA",
    "outputId": "2f6cec27-8ca0-47bc-9874-0b8ca12759ec"
   },
   "outputs": [
    {
     "data": {
      "text/plain": [
       "7.211102550927978"
      ]
     },
     "execution_count": 93,
     "metadata": {
      "tags": []
     },
     "output_type": "execute_result"
    }
   ],
   "source": [
    "# Respuesta\n",
    "j.std()"
   ]
  },
  {
   "cell_type": "code",
   "execution_count": null,
   "metadata": {
    "id": "Pm1FUdNKCeXo"
   },
   "outputs": [],
   "source": []
  }
 ],
 "metadata": {
  "colab": {
   "collapsed_sections": [],
   "name": "Práctica_2.ipynb",
   "provenance": []
  },
  "kernelspec": {
   "display_name": "Python 3",
   "language": "python",
   "name": "python3"
  },
  "language_info": {
   "codemirror_mode": {
    "name": "ipython",
    "version": 3
   },
   "file_extension": ".py",
   "mimetype": "text/x-python",
   "name": "python",
   "nbconvert_exporter": "python",
   "pygments_lexer": "ipython3",
   "version": "3.8.8"
  }
 },
 "nbformat": 4,
 "nbformat_minor": 1
}
