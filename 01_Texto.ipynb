{
 "cells": [
  {
   "cell_type": "markdown",
   "metadata": {
    "id": "mByrPQoYP5SM"
   },
   "source": [
    "# Práctica 1: Introducción a Python"
   ]
  },
  {
   "cell_type": "markdown",
   "metadata": {
    "id": "p-vH9cYSQf9u"
   },
   "source": [
    "**1.- Obten una lista donde cada elemento de ella sea una palabra de la siguiente frase:**\n",
    "\n",
    "El día 2 de diciembre de 2020 inició el taller introductorio de Python.\n",
    "\n"
   ]
  },
  {
   "cell_type": "code",
   "execution_count": null,
   "metadata": {
    "colab": {
     "base_uri": "https://localhost:8080/"
    },
    "id": "EowJU4dzP4FK",
    "outputId": "79f62f69-bd4b-4596-aab1-4c28543f8d05"
   },
   "outputs": [
    {
     "data": {
      "text/plain": [
       "['El',\n",
       " 'día',\n",
       " '2',\n",
       " 'de',\n",
       " 'diciembre',\n",
       " 'de',\n",
       " '2020',\n",
       " 'inició',\n",
       " 'el',\n",
       " 'taller',\n",
       " 'introductorio',\n",
       " 'de',\n",
       " 'Python.']"
      ]
     },
     "execution_count": 1,
     "metadata": {
      "tags": []
     },
     "output_type": "execute_result"
    }
   ],
   "source": [
    "# Respuesta:\n",
    "f = \"El día 2 de diciembre de 2020 inició el taller introductorio de Python.\"\n",
    "list(f.split())"
   ]
  },
  {
   "cell_type": "markdown",
   "metadata": {
    "id": "WdfltzHPRZrs"
   },
   "source": [
    "**2.- Usando las variables: m = 'taller' y n = 'Brenda', imprima la siguiente frase:**\n",
    "\n",
    "En mi taller conocí a Brenda"
   ]
  },
  {
   "cell_type": "code",
   "execution_count": null,
   "metadata": {
    "colab": {
     "base_uri": "https://localhost:8080/"
    },
    "id": "v1FOGNiRRNsr",
    "outputId": "24db250b-297e-467f-f1cd-d1bde33a5b40"
   },
   "outputs": [
    {
     "name": "stdout",
     "output_type": "stream",
     "text": [
      "En mi taller conocí a Brenda\n"
     ]
    }
   ],
   "source": [
    "# Respuesta:\n",
    "m = 'taller'\n",
    "n = 'Brenda'\n",
    "print('En mi {} conocí a {}'.format(m,n))"
   ]
  },
  {
   "cell_type": "markdown",
   "metadata": {
    "id": "GzuFeM9fSv_W"
   },
   "source": [
    "**3.- Dada la siguiente lista: [1, 2, [2, 12, 2020], ['mascotas', 'perro', 'gato', [43, 'agua']]], extraer la palabra 'agua'.**"
   ]
  },
  {
   "cell_type": "code",
   "execution_count": null,
   "metadata": {
    "colab": {
     "base_uri": "https://localhost:8080/",
     "height": 35
    },
    "id": "NoVAC-qATPXy",
    "outputId": "78e6369d-6176-4161-afce-6240c1383cb7"
   },
   "outputs": [
    {
     "data": {
      "application/vnd.google.colaboratory.intrinsic+json": {
       "type": "string"
      },
      "text/plain": [
       "'agua'"
      ]
     },
     "execution_count": 5,
     "metadata": {
      "tags": []
     },
     "output_type": "execute_result"
    }
   ],
   "source": [
    "# Respuesta:\n",
    "l =  [1, 2, [2, 12, 2020], ['mascotas', 'perro', 'gato', [43, 'agua']]]\n",
    "l[3][3][1]"
   ]
  },
  {
   "cell_type": "markdown",
   "metadata": {
    "id": "jqc7_2KJT27w"
   },
   "source": [
    "**4.- Dado el siguiente diccionario: {'llave 1': [1, 2, 3, 4, {'llave 1a': [46, 56, 54], 'llave 1b': ['mano', 'pie', 'cabeza']}], 'llave 2': [27]}, extraer la palabra 'mano'.**"
   ]
  },
  {
   "cell_type": "code",
   "execution_count": 2,
   "metadata": {
    "colab": {
     "base_uri": "https://localhost:8080/"
    },
    "id": "UYthKxCTUPlF",
    "outputId": "dedb3c01-feeb-419e-bbd9-46f953cd6944"
   },
   "outputs": [
    {
     "name": "stdout",
     "output_type": "stream",
     "text": [
      "mano\n"
     ]
    }
   ],
   "source": [
    "# Respuesta:\n",
    "dic={'llave 1': [1, 2, 3, 4, {'llave 1a': [46, 56, 54], 'llave 1b': ['mano', 'pie', 'cabeza']}], 'llave 2': [27]}\n",
    "c = dic.get('llave 1')\n",
    "c=c[4]\n",
    "c=c.get('llave 1b')\n",
    "c=c[0]\n",
    "print(c)"
   ]
  },
  {
   "cell_type": "markdown",
   "metadata": {
    "id": "KOcx2fboVJUE"
   },
   "source": [
    "**5.- Espeficique cual es la diferencia entre una tupla y una lista.**"
   ]
  },
  {
   "cell_type": "markdown",
   "metadata": {
    "id": "kQMY5W-WWF13"
   },
   "source": [
    "Respuesta: Ambos son arreglos unidimensionales pero la nutla es inmutable."
   ]
  },
  {
   "cell_type": "markdown",
   "metadata": {
    "id": "eyVuQ62PVU3g"
   },
   "source": [
    "**6.- Crear una función que extraiga el dominio del correo electrónico y probar con el correo: taller.introductorio.2020@gmail.com.**"
   ]
  },
  {
   "cell_type": "code",
   "execution_count": 9,
   "metadata": {
    "id": "OlMTPcFAUzH7"
   },
   "outputs": [],
   "source": [
    "# Respuesta:\n",
    "c = 'taller.introductorio.2020@gmail.com'\n",
    "def dominio(correo):\n",
    "  d=correo.split('@')\n",
    "  print(d[1])"
   ]
  },
  {
   "cell_type": "code",
   "execution_count": 10,
   "metadata": {
    "colab": {
     "base_uri": "https://localhost:8080/"
    },
    "id": "3XGPZcuaV-xG",
    "outputId": "2401b836-fde6-4d78-cd5d-dfad5e2ad064"
   },
   "outputs": [
    {
     "name": "stdout",
     "output_type": "stream",
     "text": [
      "gmail.com\n"
     ]
    }
   ],
   "source": [
    "dominio('taller.introductorio.2020@gmail.com')"
   ]
  },
  {
   "cell_type": "markdown",
   "metadata": {
    "id": "AkefvhaWX0aU"
   },
   "source": [
    "**7.- Crea una función que cuente el número de palabras dentro de una frase e ingresar la frase: Cuando yo era pequeña tenía un perro que se llamaba Habana.**"
   ]
  },
  {
   "cell_type": "code",
   "execution_count": 12,
   "metadata": {
    "id": "YUBX_6dQWDM7"
   },
   "outputs": [],
   "source": [
    "# Respuesta:\n",
    "t='Cuando yo era pequeña tenía un perro que se llamaba Habana'\n",
    "def num_palabras(texto):\n",
    "  a = texto.split()\n",
    "  print(len(a))"
   ]
  },
  {
   "cell_type": "code",
   "execution_count": 13,
   "metadata": {
    "colab": {
     "base_uri": "https://localhost:8080/"
    },
    "id": "9AYEU1kBXrlF",
    "outputId": "d7b0cf22-c3cc-49e8-ce49-9a8bd13b5eaf"
   },
   "outputs": [
    {
     "name": "stdout",
     "output_type": "stream",
     "text": [
      "11\n"
     ]
    }
   ],
   "source": [
    "num_palabras('Cuando yo era pequeña tenía un perro que se llamaba Habana.')"
   ]
  },
  {
   "cell_type": "markdown",
   "metadata": {
    "id": "lsM2FxPiYcxd"
   },
   "source": [
    "**8.- Crear una función que nos indique si dentro de una frase hay una palabra en específico (parámetro).**\n",
    "\n",
    "Nota: por default debe buscar la palabra 'día'.\n",
    "\n",
    "Probar con la frase: Algunos días feriados son: Día de la independencia, Dia de la bandera y el Natalicio de Benito Juárez. Buscando las pabras: DÍA, día, bandera, Brenda."
   ]
  },
  {
   "cell_type": "code",
   "execution_count": 16,
   "metadata": {
    "colab": {
     "base_uri": "https://localhost:8080/"
    },
    "id": "xIUvb7jUXyRT",
    "outputId": "49abc6bb-70e0-4208-a28b-7f91d9924f2a"
   },
   "outputs": [
    {
     "name": "stdout",
     "output_type": "stream",
     "text": [
      "False\n"
     ]
    }
   ],
   "source": [
    "# Respuesta:\n",
    "f = 'Algunos días feriados son: Día de la independencia, Dia de la bandera y el Natalicio de Benito Juárez'\n",
    "def buscar_palabra(frase, palabra='día'):\n",
    "  fra=frase.lower()\n",
    "  p=palabra.lower()\n",
    "  b=fra.count(p)\n",
    "  if b>0:\n",
    "    print('True')\n",
    "  else:\n",
    "    print('False')\n",
    "\n",
    "buscar_palabra(f,  palabra='Brenda')"
   ]
  },
  {
   "cell_type": "code",
   "execution_count": 17,
   "metadata": {
    "colab": {
     "base_uri": "https://localhost:8080/"
    },
    "id": "mc06fhupZQl5",
    "outputId": "c4a05403-00ba-4a38-ee47-400e080136a0"
   },
   "outputs": [
    {
     "name": "stdout",
     "output_type": "stream",
     "text": [
      "True\n"
     ]
    }
   ],
   "source": [
    "buscar_palabra('Algunos días feriados son: Día de la independencia, Dia de la bandera y el Natalicio de Benito Juárez')"
   ]
  },
  {
   "cell_type": "code",
   "execution_count": 18,
   "metadata": {
    "colab": {
     "base_uri": "https://localhost:8080/"
    },
    "id": "WQiwS68pbyzT",
    "outputId": "842dc37a-f3c3-47ff-ed68-c817f958e0e1"
   },
   "outputs": [
    {
     "name": "stdout",
     "output_type": "stream",
     "text": [
      "True\n"
     ]
    }
   ],
   "source": [
    "buscar_palabra('Algunos días feriados son: Día de la independencia, Dia de la bandera y el Natalicio de Benito Juárez', \n",
    "               palabra = 'DÍA')"
   ]
  },
  {
   "cell_type": "code",
   "execution_count": 19,
   "metadata": {
    "colab": {
     "base_uri": "https://localhost:8080/"
    },
    "id": "egpakjX4bj9B",
    "outputId": "35173a23-a7cc-48d6-8b07-da57ce1c4d26"
   },
   "outputs": [
    {
     "name": "stdout",
     "output_type": "stream",
     "text": [
      "True\n"
     ]
    }
   ],
   "source": [
    "buscar_palabra('Algunos días feriados son: Día de la independencia, Dia de la bandera y el Natalicio de Benito Juárez', \n",
    "               palabra = 'bandera')"
   ]
  },
  {
   "cell_type": "code",
   "execution_count": 20,
   "metadata": {
    "colab": {
     "base_uri": "https://localhost:8080/"
    },
    "id": "b65VwL2rbtA5",
    "outputId": "48015106-eb7c-4ba4-f9fc-82c2e3d8da42"
   },
   "outputs": [
    {
     "name": "stdout",
     "output_type": "stream",
     "text": [
      "False\n"
     ]
    }
   ],
   "source": [
    "buscar_palabra('Algunos días feriados son: Día de la independencia, Dia de la bandera y el Natalicio de Benito Juárez', \n",
    "               palabra = 'Brenda')"
   ]
  },
  {
   "cell_type": "markdown",
   "metadata": {
    "id": "pI0aGNX0bZm7"
   },
   "source": [
    "**9.- Crear una función que determine cuantas veces aparece cierta palabra en la frase que se ingrese.**\n",
    "\n",
    "Probar con la frase: Llevate dos almohadas sognare al precio de una, o llevate tres por el precio de dos. Buscando la palabra: precio."
   ]
  },
  {
   "cell_type": "code",
   "execution_count": 24,
   "metadata": {
    "id": "xmveBzJrZd_E"
   },
   "outputs": [],
   "source": [
    "# Respuesta:\n",
    "def contar(frase, palabra):\n",
    "  b=frase.count(palabra)\n",
    "  print(b)"
   ]
  },
  {
   "cell_type": "code",
   "execution_count": 25,
   "metadata": {
    "colab": {
     "base_uri": "https://localhost:8080/"
    },
    "id": "cnsyy-Urdqi-",
    "outputId": "0978c861-36f5-4d98-b1db-b60615e5cdd9"
   },
   "outputs": [
    {
     "name": "stdout",
     "output_type": "stream",
     "text": [
      "2\n"
     ]
    }
   ],
   "source": [
    "contar('Llevate dos almohadas sognare al precio de una, o llevate tres por el precio de dos.', 'precio')"
   ]
  },
  {
   "cell_type": "markdown",
   "metadata": {
    "id": "CvSj-p9Wd8ir"
   },
   "source": [
    "**10.- Mostrar todas las palabras de la siguiente lista: ['mamá', 'taza', 'Manzana', 'aguacate', 'mentir'] que inicien con la letra m.**"
   ]
  },
  {
   "cell_type": "code",
   "execution_count": 29,
   "metadata": {
    "colab": {
     "base_uri": "https://localhost:8080/"
    },
    "id": "WojXtXA8dtZ1",
    "outputId": "df22dd97-70df-4fd2-c2d9-6a992a2aa565"
   },
   "outputs": [
    {
     "name": "stdout",
     "output_type": "stream",
     "text": [
      "mamá\n",
      "Manzana\n",
      "mentir\n"
     ]
    }
   ],
   "source": [
    "# Respuesta:\n",
    "l = ['mamá', 'taza', 'Manzana', 'aguacate', 'mentir']\n",
    "for i in range(len(l)):\n",
    "  if l[i][0]=='m' or l[i][0]=='M':\n",
    "    print(l[i])"
   ]
  },
  {
   "cell_type": "markdown",
   "metadata": {
    "id": "DHi5Dae4ffNU"
   },
   "source": [
    "**11.- Ingresas a una plataforma nueva de eCommerce la cual te otorgan un descuento que va en función del total de tu compra y si es tu cumpleaños. Crea una función que le ayude a la empresa a determinar el porcentaje de descuento que le otorgará a cada cliente con las siguientes consideraciones:**\n",
    "\n",
    "\n",
    "\n",
    "*   Si el monto total de la compra es menor a \\$1,000 no se otorga descuento. \n",
    "\n",
    "*   Si el monto total es superior a $1,000 pero menor o igual a $3,500, se otorga 15\\%.\n",
    "\n",
    "*  Si el monto es superior a \\$3,500 se concede un 20% de descuento.\n",
    "\n",
    "*  Si es cumpleaños del cliente los intervalos se ven modificados en \\$500 (se restan)\n",
    "\n"
   ]
  },
  {
   "cell_type": "code",
   "execution_count": 39,
   "metadata": {
    "id": "gs6oaBDDeXst"
   },
   "outputs": [],
   "source": [
    "# Respuesta:\n",
    "def descuento(monto, cumple):\n",
    "  a=1000\n",
    "  b=3500\n",
    "  if cumple == False:\n",
    "    if monto <= a:\n",
    "      print('Sin descuento')\n",
    "    if a < monto <= b:\n",
    "      print('Se otorga el 15% de descuento')\n",
    "    if b < monto:\n",
    "      print('Se otorga el 20% de descuento')\n",
    "  if cumple == True:\n",
    "    if monto <= (a-500):\n",
    "      print('Sin descuento')\n",
    "    if (a-500) < monto <= (b-500):\n",
    "      print('Se otorga el 15% de descuento')\n",
    "    if (b-500) < monto:\n",
    "      print('Se otorga el 20% de descuento')"
   ]
  },
  {
   "cell_type": "code",
   "execution_count": 40,
   "metadata": {
    "colab": {
     "base_uri": "https://localhost:8080/"
    },
    "id": "qatHpvFXjP2e",
    "outputId": "9ad44d1c-2f4a-47fa-c348-263794694819"
   },
   "outputs": [
    {
     "name": "stdout",
     "output_type": "stream",
     "text": [
      "Sin descuento\n"
     ]
    }
   ],
   "source": [
    "descuento(monto = 1000, cumple = False)"
   ]
  },
  {
   "cell_type": "code",
   "execution_count": 41,
   "metadata": {
    "colab": {
     "base_uri": "https://localhost:8080/"
    },
    "id": "ntur3-F1iqYM",
    "outputId": "7332bce2-4f6c-4abf-f531-4b1a7d68e2cc"
   },
   "outputs": [
    {
     "name": "stdout",
     "output_type": "stream",
     "text": [
      "Se otorga el 15% de descuento\n"
     ]
    }
   ],
   "source": [
    "descuento(monto = 1000, cumple = True)"
   ]
  },
  {
   "cell_type": "code",
   "execution_count": 42,
   "metadata": {
    "colab": {
     "base_uri": "https://localhost:8080/"
    },
    "id": "UOho72SNjDRc",
    "outputId": "1402ccfe-655c-489e-c12c-5315fcd9abe4"
   },
   "outputs": [
    {
     "name": "stdout",
     "output_type": "stream",
     "text": [
      "Se otorga el 20% de descuento\n"
     ]
    }
   ],
   "source": [
    "descuento(monto = 3001, cumple = True)"
   ]
  },
  {
   "cell_type": "code",
   "execution_count": null,
   "metadata": {
    "id": "ifXfSK5rKot7"
   },
   "outputs": [],
   "source": []
  }
 ],
 "metadata": {
  "colab": {
   "collapsed_sections": [],
   "name": "Práctica_1.ipynb",
   "provenance": []
  },
  "kernelspec": {
   "display_name": "Python 3",
   "language": "python",
   "name": "python3"
  },
  "language_info": {
   "codemirror_mode": {
    "name": "ipython",
    "version": 3
   },
   "file_extension": ".py",
   "mimetype": "text/x-python",
   "name": "python",
   "nbconvert_exporter": "python",
   "pygments_lexer": "ipython3",
   "version": "3.8.8"
  }
 },
 "nbformat": 4,
 "nbformat_minor": 1
}
